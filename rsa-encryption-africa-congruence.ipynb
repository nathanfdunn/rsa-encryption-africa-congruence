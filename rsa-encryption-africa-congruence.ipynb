{
 "cells": [
  {
   "cell_type": "code",
   "execution_count": 36,
   "metadata": {
    "slideshow": {
     "slide_type": "slide"
    }
   },
   "outputs": [
    {
     "name": "stdout",
     "output_type": "stream",
     "text": [
      "done\n"
     ]
    }
   ],
   "source": [
    "# Nothing to see here! Just run it at the start of the presentation\n",
    "from util import invmod\n",
    "from math import log\n",
    "from random import randint\n",
    "\n",
    "def invmod(e, n):\n",
    "    for d in range(n):\n",
    "        if d * e % n == 1:\n",
    "            return d\n",
    "\n",
    "primes = [2]\n",
    "testPrime = 3\n",
    "while testPrime < 10000:\n",
    "    isprime = True\n",
    "    for prime in primes:\n",
    "        if testPrime % prime == 0:\n",
    "            isprime = False\n",
    "            break\n",
    "    if isprime:\n",
    "        primes.append(testPrime)\n",
    "    testPrime += 2\n",
    "    \n",
    "primes = set(primes)\n",
    "print('done')"
   ]
  },
  {
   "cell_type": "markdown",
   "metadata": {
    "slideshow": {
     "slide_type": "slide"
    }
   },
   "source": [
    "# The Mathematics of RSA Encryption\n",
    "### The Africa Congruence Part II\n",
    "\n",
    "FieldStack Lunch & Learn\n",
    "\n",
    "July 2019\n",
    "\n",
    "Nathan Dunn"
   ]
  },
  {
   "cell_type": "markdown",
   "metadata": {
    "slideshow": {
     "slide_type": "slide"
    }
   },
   "source": [
    "# Goals\n",
    "* Make encryption less mysterious\n",
    "* Learn some cool math"
   ]
  },
  {
   "cell_type": "markdown",
   "metadata": {
    "slideshow": {
     "slide_type": "fragment"
    }
   },
   "source": [
    "<center>\n",
    "    <a href=\"https://youtu.be/g8uR3zhxujU\">\n",
    "        <img style=\"height:315px\" src=\"images/africa-congruence.png\">\n",
    "    </a>\n",
    "</center>"
   ]
  },
  {
   "cell_type": "markdown",
   "metadata": {
    "slideshow": {
     "slide_type": "notes"
    }
   },
   "source": [
    "We may know conceptually what encryption is doing, but not really what it's doing under the hood\n",
    "\n",
    "Much of the math will be similar to the Africa Congruence, but seeing it isn't a prerequisite"
   ]
  },
  {
   "cell_type": "markdown",
   "metadata": {
    "slideshow": {
     "slide_type": "slide"
    }
   },
   "source": [
    "# Outline\n",
    "* Asymmetric Encryption\n",
    "* How do you perform RSA encryption?\n",
    "* Where do keys come from?\n",
    "* Why does it work?\n",
    "* Why is it secure?"
   ]
  },
  {
   "cell_type": "markdown",
   "metadata": {
    "slideshow": {
     "slide_type": "notes"
    }
   },
   "source": [
    "Sprinkled throughout we'll have plenty of mathemtical tangents"
   ]
  },
  {
   "cell_type": "markdown",
   "metadata": {
    "slideshow": {
     "slide_type": "slide"
    }
   },
   "source": [
    "# What is RSA Encryption?\n",
    "* Asymmetric Encryption Scheme\n",
    "    * Other implementations are possible"
   ]
  },
  {
   "cell_type": "markdown",
   "metadata": {
    "slideshow": {
     "slide_type": "slide"
    }
   },
   "source": [
    "# What is Asymmetric Encryption?\n",
    "<center>\n",
    "    <img style=\"height:600px\" src=\"images/asymmetric-encryption.png\">\n",
    "</center>"
   ]
  },
  {
   "cell_type": "markdown",
   "metadata": {
    "slideshow": {
     "slide_type": "notes"
    }
   },
   "source": [
    "Contrary to symmetric encryption where you have one key to encrypt data and the same key can be used to decrypt the data, in asymmetric encryption, there are 2 keys."
   ]
  },
  {
   "cell_type": "markdown",
   "metadata": {
    "slideshow": {
     "slide_type": "slide"
    }
   },
   "source": [
    "<center>\n",
    "    <img style=\"height:700px\" src=\"images/encrypting.png\">\n",
    "</center>"
   ]
  },
  {
   "cell_type": "markdown",
   "metadata": {
    "slideshow": {
     "slide_type": "slide"
    }
   },
   "source": [
    "<center>\n",
    "    <img style=\"height:700px\" src=\"images/signing.png\">\n",
    "</center>"
   ]
  },
  {
   "cell_type": "markdown",
   "metadata": {
    "slideshow": {
     "slide_type": "slide"
    }
   },
   "source": [
    "<center>\n",
    "    <img style=\"height:700px;\" src=\"images/both.png\">\n",
    "</center>"
   ]
  },
  {
   "cell_type": "markdown",
   "metadata": {
    "slideshow": {
     "slide_type": "notes"
    }
   },
   "source": [
    "That sounds pretty good, but how do we do it?\n",
    "First, we need some tools"
   ]
  },
  {
   "cell_type": "markdown",
   "metadata": {
    "slideshow": {
     "slide_type": "slide"
    }
   },
   "source": [
    "# Math Tools - Messages as Numbers"
   ]
  },
  {
   "cell_type": "markdown",
   "metadata": {
    "slideshow": {
     "slide_type": "fragment"
    }
   },
   "source": [
    "* Say you want to encode the message `Hi!`\n",
    "* Each character has an ASCII code\n",
    "    * `H` $\\rightarrow 72_{10}  \\rightarrow 01001000_2$\n",
    "    * `i` $\\rightarrow 105_{10} \\rightarrow 01101001_2$\n",
    "    * `!` $\\rightarrow 33_{10}  \\rightarrow 00100001_2$\n",
    "* Concatenate the bits so you have one big number\n",
    "    * $010010000110100100100001_2$\n",
    "    * $474550510_{10}$"
   ]
  },
  {
   "cell_type": "markdown",
   "metadata": {
    "slideshow": {
     "slide_type": "slide"
    }
   },
   "source": [
    "# Math Tools - Modulus\n",
    "\n"
   ]
  },
  {
   "cell_type": "code",
   "execution_count": 6,
   "metadata": {
    "slideshow": {
     "slide_type": "fragment"
    }
   },
   "outputs": [
    {
     "data": {
      "text/plain": [
       "19"
      ]
     },
     "execution_count": 6,
     "metadata": {},
     "output_type": "execute_result"
    }
   ],
   "source": [
    "546 % 31"
   ]
  },
  {
   "cell_type": "markdown",
   "metadata": {
    "slideshow": {
     "slide_type": "fragment"
    }
   },
   "source": [
    "* “The Remainder” operator\n",
    "\n",
    "<center>\n",
    "    <img style=\"height:300px\" src=\"images/long-division.png\">\n",
    "</center>"
   ]
  },
  {
   "cell_type": "markdown",
   "metadata": {
    "slideshow": {
     "slide_type": "subslide"
    }
   },
   "source": [
    "* `546 % 31 == 19`"
   ]
  },
  {
   "cell_type": "markdown",
   "metadata": {
    "slideshow": {
     "slide_type": "fragment"
    }
   },
   "source": [
    "* $546 = 19 \\mod 31$"
   ]
  },
  {
   "cell_type": "markdown",
   "metadata": {
    "slideshow": {
     "slide_type": "fragment"
    }
   },
   "source": [
    "* $546 = k \\cdot 31 + 19$\n",
    "    * $k = 17$"
   ]
  },
  {
   "cell_type": "markdown",
   "metadata": {
    "slideshow": {
     "slide_type": "notes"
    }
   },
   "source": [
    "So for instance, if you have a song that's 31 seconds long, and you've been listening to it on repeat for 546 seconds, you are 19 seconds into the 18th playthrough\n",
    "\n",
    "Turns out that's all the math you need to know to encrypt and decrypt a message"
   ]
  },
  {
   "cell_type": "markdown",
   "metadata": {
    "slideshow": {
     "slide_type": "slide"
    }
   },
   "source": [
    "# The RSA Algorithm\n",
    "* Public Key: $(e,n)$\n",
    "* Private Key: $(d, n)$\n",
    "* Message: $M$\n"
   ]
  },
  {
   "cell_type": "markdown",
   "metadata": {
    "slideshow": {
     "slide_type": "fragment"
    }
   },
   "source": [
    "* $EM = M^e \\mod n$\n",
    "* $DM = EM^d \\mod n$"
   ]
  },
  {
   "cell_type": "markdown",
   "metadata": {
    "slideshow": {
     "slide_type": "slide"
    }
   },
   "source": [
    "# RSA Example"
   ]
  },
  {
   "cell_type": "code",
   "execution_count": 13,
   "metadata": {
    "slideshow": {
     "slide_type": "fragment"
    }
   },
   "outputs": [],
   "source": [
    "# Public key\n",
    "(e, n) = (3593, 150349)\n",
    "# Private key - Don't tell!\n",
    "(d, n) = (958,  150349)\n",
    "\n",
    "# Message\n",
    "M = 90002"
   ]
  },
  {
   "cell_type": "code",
   "execution_count": 14,
   "metadata": {
    "slideshow": {
     "slide_type": "fragment"
    }
   },
   "outputs": [
    {
     "name": "stdout",
     "output_type": "stream",
     "text": [
      "25366\n"
     ]
    }
   ],
   "source": [
    "# Encrypted Message\n",
    "EM = M**e % n\n",
    "print(EM)"
   ]
  },
  {
   "cell_type": "code",
   "execution_count": 15,
   "metadata": {
    "slideshow": {
     "slide_type": "fragment"
    }
   },
   "outputs": [
    {
     "name": "stdout",
     "output_type": "stream",
     "text": [
      "91516\n"
     ]
    }
   ],
   "source": [
    "# Decrypted Message\n",
    "DM = EM**d % n\n",
    "print(DM)"
   ]
  },
  {
   "cell_type": "markdown",
   "metadata": {
    "slideshow": {
     "slide_type": "notes"
    }
   },
   "source": [
    "Hopefully the decrypted message is the same as the original message!\n",
    "\n",
    "Normally two different parties would have done the encryption and decryption\n",
    "\n",
    "Do an example with a different message M - completely different cyphertext, even though the cleartext is very similar\n",
    "\n",
    "Show that changing the key will screw it up\n",
    "\n",
    "Show that using that encrypting using the *private* exponent still works\n",
    "\n",
    "Clearly there's something special about these keys"
   ]
  },
  {
   "cell_type": "markdown",
   "metadata": {
    "slideshow": {
     "slide_type": "slide"
    }
   },
   "source": [
    "# Where do the keys come from?\n"
   ]
  },
  {
   "cell_type": "markdown",
   "metadata": {
    "slideshow": {
     "slide_type": "slide"
    }
   },
   "source": [
    "# Math Tools - Primes\n",
    "* A **prime number** can only be divided by $1$ and itself\n",
    "    * In contrast to a **composite number**\n",
    "* Every number can be **factored** into a list of primes\n",
    "    * $360 = 2 \\cdot 2 \\cdot 2 \\cdot 3 \\cdot 3 \\cdot 5$\n",
    "    * $11 = 11$\n",
    "* Two numbers are **coprime** if they have no common prime factors\n",
    "    * $6 = 2 \\cdot 3, \\space \\space 35 = 5 \\cdot 7$, so $6$ and $35$ are coprime\n",
    "    * $26 = \\underline{2} \\cdot 13, \\space\\space 4 = \\underline{2} \\cdot 2 \\space$, so $26$ and $4$ are not coprime\n"
   ]
  },
  {
   "cell_type": "markdown",
   "metadata": {
    "slideshow": {
     "slide_type": "slide"
    }
   },
   "source": [
    "# Math Tools - Totient Function\n",
    "* $\\phi(n)$ is called the **totient** of $n$\n",
    "    * Number of integers less than $n$, coprime with $n$\n",
    "* $\\phi(p \\cdot q) = (p-1) \\cdot (q-1)$"
   ]
  },
  {
   "cell_type": "markdown",
   "metadata": {
    "slideshow": {
     "slide_type": "slide"
    }
   },
   "source": [
    "# Key Generation\n",
    "1. Choose random primes, $p$ and $q$\n",
    "1. Calculate modulus $n = p \\cdot q$\n",
    "1. Choose an arbitrary prime value for $e$\n",
    "1. Calculate $\\phi(n) = (p-1) \\cdot (q-1)$\n",
    "1. Solve $d \\cdot e = 1 \\mod \\phi(n)$"
   ]
  },
  {
   "cell_type": "code",
   "execution_count": 16,
   "metadata": {
    "slideshow": {
     "slide_type": "subslide"
    }
   },
   "outputs": [
    {
     "name": "stdout",
     "output_type": "stream",
     "text": [
      "150349\n"
     ]
    }
   ],
   "source": [
    "# Choose random primes\n",
    "p, q = 251, 599\n",
    "# Calculate modulus as product of primes\n",
    "n = p * q\n",
    "print(n)"
   ]
  },
  {
   "cell_type": "code",
   "execution_count": 17,
   "metadata": {
    "slideshow": {
     "slide_type": "fragment"
    }
   },
   "outputs": [
    {
     "name": "stdout",
     "output_type": "stream",
     "text": [
      "149500\n"
     ]
    }
   ],
   "source": [
    "# φ(n)\n",
    "phi_n = (p-1) * (q-1)\n",
    "print(phi_n)"
   ]
  },
  {
   "cell_type": "code",
   "execution_count": 35,
   "metadata": {
    "slideshow": {
     "slide_type": "fragment"
    }
   },
   "outputs": [
    {
     "name": "stdout",
     "output_type": "stream",
     "text": [
      "957\n"
     ]
    }
   ],
   "source": [
    "# Arbitrarily choose e\n",
    "e = 3593\n",
    "\n",
    "# Solve d*e % φ(n) = 1\n",
    "d = invmod(e, phi_n)\n",
    "print(d)"
   ]
  },
  {
   "cell_type": "markdown",
   "metadata": {
    "slideshow": {
     "slide_type": "notes"
    }
   },
   "source": [
    "Could use the Chinese Remainder Theorem to solve for d. But let's black box the algorithm"
   ]
  },
  {
   "cell_type": "code",
   "execution_count": 19,
   "metadata": {
    "slideshow": {
     "slide_type": "fragment"
    }
   },
   "outputs": [
    {
     "name": "stdout",
     "output_type": "stream",
     "text": [
      "1\n"
     ]
    }
   ],
   "source": [
    "# Verify\n",
    "print(d * e % phi_n)"
   ]
  },
  {
   "cell_type": "code",
   "execution_count": 20,
   "metadata": {
    "slideshow": {
     "slide_type": "subslide"
    }
   },
   "outputs": [
    {
     "name": "stdout",
     "output_type": "stream",
     "text": [
      "Public key   (3593, 150349)\n",
      "Private key  (957, 150349)\n"
     ]
    }
   ],
   "source": [
    "# Final result\n",
    "print('Public key  ',  (e, n))\n",
    "print('Private key ', (d, n))\n",
    " "
   ]
  },
  {
   "cell_type": "markdown",
   "metadata": {
    "slideshow": {
     "slide_type": "slide"
    }
   },
   "source": [
    "# What makes those keys work?"
   ]
  },
  {
   "cell_type": "markdown",
   "metadata": {
    "slideshow": {
     "slide_type": "notes"
    }
   },
   "source": [
    "What is it about the key generation process that makes them able to encrypt and decrypt a message"
   ]
  },
  {
   "cell_type": "markdown",
   "metadata": {
    "slideshow": {
     "slide_type": "subslide"
    }
   },
   "source": [
    "# Math Tools - Euler's Theorem\n",
    "\n",
    "$$\\text{$x$ is coprime with $n$} \\implies x^{\\phi(n)} = 1 \\mod n$$"
   ]
  },
  {
   "cell_type": "markdown",
   "metadata": {
    "slideshow": {
     "slide_type": "subslide"
    }
   },
   "source": [
    "$$EM = M^e \\mod n$$\n",
    "$$DM = EM^d \\mod n$$\n",
    "$$DM = M^{e \\cdot d} \\mod n$$"
   ]
  },
  {
   "cell_type": "markdown",
   "metadata": {
    "slideshow": {
     "slide_type": "subslide"
    }
   },
   "source": [
    "$$e \\cdot d = 1 \\mod \\phi(n) \\implies e \\cdot d = 1 + k \\cdot \\phi(n)$$\n"
   ]
  },
  {
   "cell_type": "markdown",
   "metadata": {
    "slideshow": {
     "slide_type": "fragment"
    }
   },
   "source": [
    "$$M^{e \\cdot d} = M^{1 + k \\cdot \\phi(n)} = M^1 \\cdot (M ^ {\\phi(n)})^k$$"
   ]
  },
  {
   "cell_type": "markdown",
   "metadata": {
    "slideshow": {
     "slide_type": "fragment"
    }
   },
   "source": [
    "$$M^{e \\cdot d} \\mod n = M \\cdot (1) ^ k \\mod n$$"
   ]
  },
  {
   "cell_type": "markdown",
   "metadata": {
    "slideshow": {
     "slide_type": "fragment"
    }
   },
   "source": [
    "$$M ^ {e \\cdot d} \\mod n = M$$"
   ]
  },
  {
   "cell_type": "markdown",
   "metadata": {
    "slideshow": {
     "slide_type": "slide"
    }
   },
   "source": [
    "# Why is it secure?"
   ]
  },
  {
   "cell_type": "markdown",
   "metadata": {
    "slideshow": {
     "slide_type": "notes"
    }
   },
   "source": [
    "All we've done so far is show that we can do some mathematical transformation and then reverse it. But the same could be said for adding 7 and then subtracting 7, so clearly we need to do more work to show why it's secure"
   ]
  },
  {
   "cell_type": "markdown",
   "metadata": {
    "slideshow": {
     "slide_type": "slide"
    }
   },
   "source": [
    "## Can an attacker get the private key from the public key?\n",
    "* $e \\cdot d = 1 \\mod \\phi(n)$\n",
    "* $3593 \\cdot d = 1 \\mod \\phi(150349)$"
   ]
  },
  {
   "cell_type": "markdown",
   "metadata": {
    "slideshow": {
     "slide_type": "fragment"
    }
   },
   "source": [
    "* $3593 \\cdot d = 1 \\mod 149500$\n",
    "    * Can an attacker calculate $\\phi(n) = (p-1) \\cdot (q-1)$"
   ]
  },
  {
   "cell_type": "markdown",
   "metadata": {
    "slideshow": {
     "slide_type": "notes"
    }
   },
   "source": [
    "We have all this information that we had before"
   ]
  },
  {
   "cell_type": "markdown",
   "metadata": {
    "slideshow": {
     "slide_type": "fragment"
    }
   },
   "source": [
    "* No, because **factoring** is difficult"
   ]
  },
  {
   "cell_type": "markdown",
   "metadata": {
    "slideshow": {
     "slide_type": "slide"
    }
   },
   "source": [
    "## RSA-200\n",
    "* 663 bit number from the RSA Factoring Challenge"
   ]
  },
  {
   "cell_type": "markdown",
   "metadata": {
    "slideshow": {
     "slide_type": "fragment"
    }
   },
   "source": [
    "* Factored in 2005"
   ]
  },
  {
   "cell_type": "markdown",
   "metadata": {
    "slideshow": {
     "slide_type": "fragment"
    }
   },
   "source": [
    "* 2 years real time, 75 years CPU time"
   ]
  },
  {
   "cell_type": "code",
   "execution_count": 21,
   "metadata": {
    "slideshow": {
     "slide_type": "subslide"
    }
   },
   "outputs": [
    {
     "data": {
      "text/plain": [
       "200"
      ]
     },
     "execution_count": 21,
     "metadata": {},
     "output_type": "execute_result"
    }
   ],
   "source": [
    "rsa200 = 27997833911221327870829467638722601621070446786955428537560009929326128400107609345671052955360856061822351910951365788637105954482006576775098580557613579098734950144178863178946295187237869221823983\n",
    "len(str(rsa200))"
   ]
  },
  {
   "cell_type": "code",
   "execution_count": 22,
   "metadata": {
    "slideshow": {
     "slide_type": "fragment"
    }
   },
   "outputs": [
    {
     "data": {
      "text/plain": [
       "True"
      ]
     },
     "execution_count": 22,
     "metadata": {},
     "output_type": "execute_result"
    }
   ],
   "source": [
    "p = 3532461934402770121272604978198464368671197400197625023649303468776121253679423200058547956528088349\n",
    "q = 7925869954478333033347085841480059687737975857364219960734330341455767872818152135381409304740185467\n",
    "\n",
    "rsa200 == p*q"
   ]
  },
  {
   "cell_type": "markdown",
   "metadata": {
    "slideshow": {
     "slide_type": "subslide"
    }
   },
   "source": [
    "## RSA-2048\n",
    "<span style=\"overflow-wrap: break-word;\">25195908475657893494027183240048398571429282126204032027777137836043662020707595556264018525880784406918290641249515082189298559149176184502808489120072844992687392807287776735971418347270261896375014971824691165077613379859095700097330459748808428401797429100642458691817195118746121515172654632282216869987549182422433637259085141865462043576798423387184774447920739934236584823824281198163815010674810451660377306056201619676256133844143603833904414952634432190114657544454178424020924616515723350778707749817125772467962926386356373289912154831438167899885040445364023527381951378636564391212010397122822120720357</span>"
   ]
  },
  {
   "cell_type": "markdown",
   "metadata": {
    "slideshow": {
     "slide_type": "fragment"
    }
   },
   "source": [
    "* Prize of $200,000\n",
    "* This is the recommended size of modern RSA keys"
   ]
  },
  {
   "cell_type": "markdown",
   "metadata": {
    "slideshow": {
     "slide_type": "slide"
    }
   },
   "source": [
    "## Can an attacker solve for $d$ given a signed message?\n",
    "* $EM = M^d \\mod n$\n",
    "* $6646 = 90001 ^ d \\mod 150349$"
   ]
  },
  {
   "cell_type": "markdown",
   "metadata": {
    "slideshow": {
     "slide_type": "notes"
    }
   },
   "source": [
    "Instead of trying to get the key given the private key, what if we have some extra information. Namely, the cleartext and cyphertext of a given message."
   ]
  },
  {
   "cell_type": "markdown",
   "metadata": {
    "slideshow": {
     "slide_type": "fragment"
    }
   },
   "source": [
    "* No, because **discrete logarithms** are difficult"
   ]
  },
  {
   "cell_type": "markdown",
   "metadata": {
    "slideshow": {
     "slide_type": "slide"
    }
   },
   "source": [
    "## Can an attacker solve for $M$ given the encrypted message?\n",
    "* $EM = M^e \\mod n$\n",
    "* $131435 = M ^ {3593} \\mod 150349$"
   ]
  },
  {
   "cell_type": "markdown",
   "metadata": {
    "slideshow": {
     "slide_type": "notes"
    }
   },
   "source": [
    "What if we want to settle for just breaking a single message, rather than breaking the private key"
   ]
  },
  {
   "cell_type": "markdown",
   "metadata": {
    "slideshow": {
     "slide_type": "fragment"
    }
   },
   "source": [
    "* No, because taking the $e^{th}$ root is difficult\n",
    "    * Known as the RSA problem"
   ]
  },
  {
   "cell_type": "markdown",
   "metadata": {
    "slideshow": {
     "slide_type": "slide"
    }
   },
   "source": [
    "# Questions?"
   ]
  },
  {
   "cell_type": "markdown",
   "metadata": {
    "slideshow": {
     "slide_type": "slide"
    }
   },
   "source": [
    "# Appendix\n",
    "* Proof that $\\phi(p \\cdot q) = (p-1) \\cdot (q-1)$\n",
    "* Proof of Euler's Theorem\n",
    "* Generating Prime Numbers"
   ]
  },
  {
   "cell_type": "markdown",
   "metadata": {
    "slideshow": {
     "slide_type": "slide"
    }
   },
   "source": [
    "# Argument that $\\phi(p \\cdot q) = (p-1) \\cdot (q-1)$"
   ]
  },
  {
   "cell_type": "markdown",
   "metadata": {
    "slideshow": {
     "slide_type": "slide"
    }
   },
   "source": [
    "* $\\phi(n)$ is called the **totient** of $n$\n",
    "    * Number of integers less than $n$, coprime with $n$\n",
    "* $n = 15 = 5 \\cdot 3$\n",
    "* $\\phi(15) =$ Number of integers coprime with $15$"
   ]
  },
  {
   "cell_type": "code",
   "execution_count": 23,
   "metadata": {
    "slideshow": {
     "slide_type": "subslide"
    }
   },
   "outputs": [
    {
     "name": "stdout",
     "output_type": "stream",
     "text": [
      "FizzBuzz\n",
      "1\n",
      "2\n",
      "Fizz\n",
      "4\n",
      "Buzz\n",
      "Fizz\n",
      "7\n",
      "8\n",
      "Fizz\n",
      "Buzz\n",
      "11\n",
      "Fizz\n",
      "13\n",
      "14\n"
     ]
    }
   ],
   "source": [
    "for i in range(15):\n",
    "    if i % 3 == 0 and i % 5 == 0:\n",
    "        print('FizzBuzz')\n",
    "    elif i % 3 == 0:\n",
    "        print('Fizz')\n",
    "    elif i % 5 == 0:\n",
    "        print('Buzz')\n",
    "    else:\n",
    "        print(i)    "
   ]
  },
  {
   "cell_type": "markdown",
   "metadata": {
    "slideshow": {
     "slide_type": "subslide"
    }
   },
   "source": [
    "$\\phi(15) = 8$"
   ]
  },
  {
   "cell_type": "markdown",
   "metadata": {
    "slideshow": {
     "slide_type": "fragment"
    }
   },
   "source": [
    "$\\phi(p \\cdot q) = p \\cdot q - p - q + 1$"
   ]
  },
  {
   "cell_type": "markdown",
   "metadata": {
    "slideshow": {
     "slide_type": "fragment"
    }
   },
   "source": [
    "$\\phi(p \\cdot q) = (p-1) \\cdot (q-1)$"
   ]
  },
  {
   "cell_type": "markdown",
   "metadata": {
    "slideshow": {
     "slide_type": "fragment"
    }
   },
   "source": [
    "$\\phi(5 \\cdot 3) = (5-1) \\cdot (3-1) = 8$"
   ]
  },
  {
   "cell_type": "markdown",
   "metadata": {
    "slideshow": {
     "slide_type": "slide"
    }
   },
   "source": [
    "# Argument for Euler's Theorem\n",
    "$$\\text{$x$ is coprime with $n$} \\implies x^{\\phi(n)} = 1 \\mod n$$"
   ]
  },
  {
   "cell_type": "markdown",
   "metadata": {
    "slideshow": {
     "slide_type": "subslide"
    }
   },
   "source": [
    "Euler's Theorem predicts\n",
    "\n",
    "$$\\text{$x$ is coprime with $15$} \\implies x^8 = 1 \\mod 15$$"
   ]
  },
  {
   "cell_type": "code",
   "execution_count": 24,
   "metadata": {
    "slideshow": {
     "slide_type": "fragment"
    }
   },
   "outputs": [
    {
     "name": "stdout",
     "output_type": "stream",
     "text": [
      "0 0\n",
      "1 1\n",
      "2 1\n",
      "3 6\n",
      "4 1\n",
      "5 10\n",
      "6 6\n",
      "7 1\n",
      "8 1\n",
      "9 6\n",
      "10 10\n",
      "11 1\n",
      "12 6\n",
      "13 1\n",
      "14 1\n"
     ]
    }
   ],
   "source": [
    "for i in range(15):\n",
    "    print(i, i**8 % 15)"
   ]
  },
  {
   "cell_type": "markdown",
   "metadata": {
    "slideshow": {
     "slide_type": "subslide"
    }
   },
   "source": [
    "## $7^8 \\mod 15$"
   ]
  },
  {
   "cell_type": "markdown",
   "metadata": {
    "slideshow": {
     "slide_type": "fragment"
    }
   },
   "source": [
    "$1 \\cdot 2 \\cdot 4 \\cdot 7 \\cdot 8 \\cdot 11 \\cdot 13 \\cdot 14 \\mod 15$"
   ]
  },
  {
   "cell_type": "markdown",
   "metadata": {
    "slideshow": {
     "slide_type": "fragment"
    }
   },
   "source": [
    "$7^8 (1 \\cdot 2 \\cdot 4 \\cdot 7 \\cdot 8 \\cdot 11 \\cdot 13 \\cdot 14) \\mod 15$"
   ]
  },
  {
   "cell_type": "markdown",
   "metadata": {
    "slideshow": {
     "slide_type": "fragment"
    }
   },
   "source": [
    "$(7 \\cdot 1) (7 \\cdot 2) (7 \\cdot 4) (7 \\cdot 8) (7 \\cdot 11) (7 \\cdot 13) (7 \\cdot 14) \\mod 15$"
   ]
  },
  {
   "cell_type": "markdown",
   "metadata": {
    "slideshow": {
     "slide_type": "subslide"
    }
   },
   "source": [
    "<center>\n",
    "    <img style=\"height:600px;\" src=\"images/multiplication-table.png\">\n",
    "</center>"
   ]
  },
  {
   "cell_type": "markdown",
   "metadata": {
    "slideshow": {
     "slide_type": "subslide"
    }
   },
   "source": [
    "<center>\n",
    "    <img style=\"height:600px;\" src=\"images/multiplication-table-highlighted.png\">\n",
    "</center>"
   ]
  },
  {
   "cell_type": "markdown",
   "metadata": {
    "slideshow": {
     "slide_type": "subslide"
    }
   },
   "source": [
    "## $7^8 \\mod 15$\n",
    "$1 \\cdot 2 \\cdot 4 \\cdot 7 \\cdot 8 \\cdot 11 \\cdot 13 \\cdot 14 \\mod 15$\n",
    "\n",
    "$7^8 (1 \\cdot 2 \\cdot 4 \\cdot 7 \\cdot 8 \\cdot 11 \\cdot 13 \\cdot 14) \\mod 15$\n",
    "\n",
    "$(7 \\cdot 1) (7 \\cdot 2) (7 \\cdot 4) (7 \\cdot 8) (7 \\cdot 11) (7 \\cdot 13) (7 \\cdot 14) \\mod 15$\n",
    "\n",
    "$7 \\cdot 14 \\cdot 13 \\cdot 4 \\cdot 11 \\cdot 2 \\cdot 1 \\cdot 8 \\mod 15$\n",
    "\n",
    "$\\therefore 7^8 = 1 \\mod 15$"
   ]
  },
  {
   "cell_type": "markdown",
   "metadata": {
    "slideshow": {
     "slide_type": "notes"
    }
   },
   "source": [
    "Consider the product of all the coprime values, not that we care about the actual value\n",
    "\n",
    "Multiply this value by 7^8\n",
    "\n",
    "Multiplying each number by 7 just rearranges the values, so the product doesn't change!"
   ]
  },
  {
   "cell_type": "markdown",
   "metadata": {
    "slideshow": {
     "slide_type": "slide"
    }
   },
   "source": [
    "# Generating Prime Numbers"
   ]
  },
  {
   "cell_type": "markdown",
   "metadata": {
    "slideshow": {
     "slide_type": "fragment"
    }
   },
   "source": [
    "1. Generate a random number of the correct size\n",
    "1. Test if that number if prime\n",
    "1. If yes, done. If not, go to 1."
   ]
  },
  {
   "cell_type": "markdown",
   "metadata": {
    "slideshow": {
     "slide_type": "fragment"
    }
   },
   "source": [
    "* How many numbers will we have to test?\n",
    "* Isn't testing primality difficult?"
   ]
  },
  {
   "cell_type": "markdown",
   "metadata": {
    "slideshow": {
     "slide_type": "notes"
    }
   },
   "source": [
    "If we have to test trillions of numbers to find a prime, kind of a non-starter...how many do we need to test?\n",
    "\n",
    "If we have to factor the value to figure out if it's prime, that's also a problem"
   ]
  },
  {
   "cell_type": "markdown",
   "metadata": {
    "slideshow": {
     "slide_type": "slide"
    }
   },
   "source": [
    "# Distribution of Primes\n",
    "$$\\pi(N) \\sim \\frac{N}{\\log(N)} \\implies \\text{One out of $\\log(N)$ numbers of size $N$ are prime}$$\n"
   ]
  },
  {
   "cell_type": "code",
   "execution_count": 33,
   "metadata": {
    "slideshow": {
     "slide_type": "fragment"
    }
   },
   "outputs": [
    {
     "name": "stdout",
     "output_type": "stream",
     "text": [
      "2.302585092994046\n",
      "4.605170185988092\n",
      "6.907755278982137\n",
      "709.782712893384\n"
     ]
    }
   ],
   "source": [
    "for N in [10, 100, 1000, 2**1024]:\n",
    "    print(log(N))"
   ]
  },
  {
   "cell_type": "markdown",
   "metadata": {
    "slideshow": {
     "slide_type": "notes"
    }
   },
   "source": [
    "Accuracy of this approximation improves with greater N\n",
    "\n",
    "To generate a 1024-bit prime, we have to check around 710 values on average...no biggie"
   ]
  },
  {
   "cell_type": "markdown",
   "metadata": {
    "slideshow": {
     "slide_type": "slide"
    }
   },
   "source": [
    "# Primality Testing"
   ]
  },
  {
   "cell_type": "markdown",
   "metadata": {
    "slideshow": {
     "slide_type": "fragment"
    }
   },
   "source": [
    "* Fermat Primality Test\n",
    "    * Probabilistic\n",
    "* Fermat's Little Theorem\n",
    "    * $p \\text{ prime} \\implies x^{p-1} = 1 \\mod p$"
   ]
  },
  {
   "cell_type": "markdown",
   "metadata": {
    "slideshow": {
     "slide_type": "notes"
    }
   },
   "source": [
    "Turns out, you can determine *if* a number has prime factors without actually finding the factors!\n",
    "\n",
    "Probabilistic - small chance of falsely reporting a number is prime, but can be made arbitrarily small\n",
    "\n",
    "Fermat's Little Theorem is a special case of Euler's Theorem"
   ]
  },
  {
   "cell_type": "markdown",
   "metadata": {
    "slideshow": {
     "slide_type": "fragment"
    }
   },
   "source": [
    "* Do **k** times\n",
    "    * Pick **x** randomly in the range [2,N-2]\n",
    "    * If $x^{N-1} \\ne 1 \\mod N$, $N$ is composite\n",
    "    * If Fermat's expression holds all $k$ times, $N$ is likely prime"
   ]
  },
  {
   "cell_type": "code",
   "execution_count": 31,
   "metadata": {
    "slideshow": {
     "slide_type": "subslide"
    }
   },
   "outputs": [],
   "source": [
    "def isPrime(N):\n",
    "    k = 2\n",
    "    for _ in range(k):\n",
    "        a = randint(2, N-2)\n",
    "        remainder = a**(N-1) % N\n",
    "        if remainder != 1:\n",
    "            return False\n",
    "    return True"
   ]
  },
  {
   "cell_type": "code",
   "execution_count": 32,
   "metadata": {
    "slideshow": {
     "slide_type": "fragment"
    }
   },
   "outputs": [
    {
     "name": "stdout",
     "output_type": "stream",
     "text": [
      "1\n"
     ]
    }
   ],
   "source": [
    "incorrect = 0\n",
    "for val in range(5, 10000):\n",
    "    if isPrime(val) != (val in primes):\n",
    "        incorrect += 1\n",
    "        \n",
    "print(incorrect)"
   ]
  },
  {
   "cell_type": "markdown",
   "metadata": {
    "slideshow": {
     "slide_type": "notes"
    }
   },
   "source": [
    "Try increasing k to 10"
   ]
  },
  {
   "cell_type": "markdown",
   "metadata": {
    "slideshow": {
     "slide_type": "slide"
    }
   },
   "source": [
    "# Sources\n",
    "* https://en.wikipedia.org/wiki/RSA_(cryptosystem)"
   ]
  }
 ],
 "metadata": {
  "celltoolbar": "Slideshow",
  "kernelspec": {
   "display_name": "Python 3",
   "language": "python",
   "name": "python3"
  },
  "language_info": {
   "codemirror_mode": {
    "name": "ipython",
    "version": 3
   },
   "file_extension": ".py",
   "mimetype": "text/x-python",
   "name": "python",
   "nbconvert_exporter": "python",
   "pygments_lexer": "ipython3",
   "version": "3.6.3"
  }
 },
 "nbformat": 4,
 "nbformat_minor": 2
}
